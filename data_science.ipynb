{
  "nbformat": 4,
  "nbformat_minor": 0,
  "metadata": {
    "colab": {
      "name": "data_science.ipynb",
      "provenance": [],
      "collapsed_sections": [],
      "authorship_tag": "ABX9TyOkLluo43vbRkPYX2FdinPP",
      "include_colab_link": true
    },
    "kernelspec": {
      "name": "python3",
      "display_name": "Python 3"
    },
    "language_info": {
      "name": "python"
    }
  },
  "cells": [
    {
      "cell_type": "markdown",
      "metadata": {
        "id": "view-in-github",
        "colab_type": "text"
      },
      "source": [
        "<a href=\"https://colab.research.google.com/github/Abinvarghese07/Data_science-ML-AI/blob/main/data_science.ipynb\" target=\"_parent\"><img src=\"https://colab.research.google.com/assets/colab-badge.svg\" alt=\"Open In Colab\"/></a>"
      ]
    },
    {
      "cell_type": "code",
      "metadata": {
        "id": "6Vwk2ViaBqtc"
      },
      "source": [
        "import pandas as pd\n",
        "import numpy as np\n",
        "import seaborn as sns\n",
        "import matplotlib.pyplot as plt\n"
      ],
      "execution_count": null,
      "outputs": []
    },
    {
      "cell_type": "code",
      "metadata": {
        "colab": {
          "base_uri": "https://localhost:8080/"
        },
        "id": "yxZSz-roCJq2",
        "outputId": "b53bcf60-9332-4dee-ad44-9555d2e7124b"
      },
      "source": [
        "from google.colab import drive\n",
        "drive.mount('/content/drive')"
      ],
      "execution_count": null,
      "outputs": [
        {
          "output_type": "stream",
          "text": [
            "Drive already mounted at /content/drive; to attempt to forcibly remount, call drive.mount(\"/content/drive\", force_remount=True).\n"
          ],
          "name": "stdout"
        }
      ]
    },
    {
      "cell_type": "code",
      "metadata": {
        "id": "VA8B1NjIDIO7"
      },
      "source": [
        ""
      ],
      "execution_count": null,
      "outputs": []
    },
    {
      "cell_type": "code",
      "metadata": {
        "colab": {
          "base_uri": "https://localhost:8080/",
          "height": 215
        },
        "id": "h92km7HHDI-j",
        "outputId": "c6af5048-2af8-4728-8332-b11310a1cf58"
      },
      "source": [
        "csv_path = pd.read_csv('/online_shopping.csv')\n",
        "csv_path.head()\n"
      ],
      "execution_count": null,
      "outputs": [
        {
          "output_type": "execute_result",
          "data": {
            "text/html": [
              "<div>\n",
              "<style scoped>\n",
              "    .dataframe tbody tr th:only-of-type {\n",
              "        vertical-align: middle;\n",
              "    }\n",
              "\n",
              "    .dataframe tbody tr th {\n",
              "        vertical-align: top;\n",
              "    }\n",
              "\n",
              "    .dataframe thead th {\n",
              "        text-align: right;\n",
              "    }\n",
              "</style>\n",
              "<table border=\"1\" class=\"dataframe\">\n",
              "  <thead>\n",
              "    <tr style=\"text-align: right;\">\n",
              "      <th></th>\n",
              "      <th>Administrative</th>\n",
              "      <th>Administrative_Duration</th>\n",
              "      <th>Informational</th>\n",
              "      <th>Informational_Duration</th>\n",
              "      <th>ProductRelated</th>\n",
              "      <th>ProductRelated_Duration</th>\n",
              "      <th>BounceRates</th>\n",
              "      <th>ExitRates</th>\n",
              "      <th>PageValues</th>\n",
              "      <th>SpecialDay</th>\n",
              "      <th>Month</th>\n",
              "      <th>OperatingSystems</th>\n",
              "      <th>Browser</th>\n",
              "      <th>Region</th>\n",
              "      <th>TrafficType</th>\n",
              "      <th>VisitorType</th>\n",
              "      <th>Weekend</th>\n",
              "    </tr>\n",
              "  </thead>\n",
              "  <tbody>\n",
              "    <tr>\n",
              "      <th>0</th>\n",
              "      <td>0</td>\n",
              "      <td>0.0</td>\n",
              "      <td>0</td>\n",
              "      <td>0.0</td>\n",
              "      <td>1</td>\n",
              "      <td>0.000000</td>\n",
              "      <td>0.20</td>\n",
              "      <td>0.20</td>\n",
              "      <td>0.0</td>\n",
              "      <td>0.0</td>\n",
              "      <td>Feb</td>\n",
              "      <td>1</td>\n",
              "      <td>1</td>\n",
              "      <td>1</td>\n",
              "      <td>1</td>\n",
              "      <td>Returning_Visitor</td>\n",
              "      <td>False</td>\n",
              "    </tr>\n",
              "    <tr>\n",
              "      <th>1</th>\n",
              "      <td>0</td>\n",
              "      <td>0.0</td>\n",
              "      <td>0</td>\n",
              "      <td>0.0</td>\n",
              "      <td>2</td>\n",
              "      <td>64.000000</td>\n",
              "      <td>0.00</td>\n",
              "      <td>0.10</td>\n",
              "      <td>0.0</td>\n",
              "      <td>0.0</td>\n",
              "      <td>Feb</td>\n",
              "      <td>2</td>\n",
              "      <td>2</td>\n",
              "      <td>1</td>\n",
              "      <td>2</td>\n",
              "      <td>Returning_Visitor</td>\n",
              "      <td>False</td>\n",
              "    </tr>\n",
              "    <tr>\n",
              "      <th>2</th>\n",
              "      <td>0</td>\n",
              "      <td>0.0</td>\n",
              "      <td>0</td>\n",
              "      <td>0.0</td>\n",
              "      <td>1</td>\n",
              "      <td>0.000000</td>\n",
              "      <td>0.20</td>\n",
              "      <td>0.20</td>\n",
              "      <td>0.0</td>\n",
              "      <td>0.0</td>\n",
              "      <td>Feb</td>\n",
              "      <td>4</td>\n",
              "      <td>1</td>\n",
              "      <td>9</td>\n",
              "      <td>3</td>\n",
              "      <td>Returning_Visitor</td>\n",
              "      <td>False</td>\n",
              "    </tr>\n",
              "    <tr>\n",
              "      <th>3</th>\n",
              "      <td>0</td>\n",
              "      <td>0.0</td>\n",
              "      <td>0</td>\n",
              "      <td>0.0</td>\n",
              "      <td>2</td>\n",
              "      <td>2.666667</td>\n",
              "      <td>0.05</td>\n",
              "      <td>0.14</td>\n",
              "      <td>0.0</td>\n",
              "      <td>0.0</td>\n",
              "      <td>Feb</td>\n",
              "      <td>3</td>\n",
              "      <td>2</td>\n",
              "      <td>2</td>\n",
              "      <td>4</td>\n",
              "      <td>Returning_Visitor</td>\n",
              "      <td>False</td>\n",
              "    </tr>\n",
              "    <tr>\n",
              "      <th>4</th>\n",
              "      <td>0</td>\n",
              "      <td>0.0</td>\n",
              "      <td>0</td>\n",
              "      <td>0.0</td>\n",
              "      <td>10</td>\n",
              "      <td>627.500000</td>\n",
              "      <td>0.02</td>\n",
              "      <td>0.05</td>\n",
              "      <td>0.0</td>\n",
              "      <td>0.0</td>\n",
              "      <td>Feb</td>\n",
              "      <td>3</td>\n",
              "      <td>3</td>\n",
              "      <td>1</td>\n",
              "      <td>4</td>\n",
              "      <td>Returning_Visitor</td>\n",
              "      <td>True</td>\n",
              "    </tr>\n",
              "  </tbody>\n",
              "</table>\n",
              "</div>"
            ],
            "text/plain": [
              "   Administrative  Administrative_Duration  ...        VisitorType  Weekend\n",
              "0               0                      0.0  ...  Returning_Visitor    False\n",
              "1               0                      0.0  ...  Returning_Visitor    False\n",
              "2               0                      0.0  ...  Returning_Visitor    False\n",
              "3               0                      0.0  ...  Returning_Visitor    False\n",
              "4               0                      0.0  ...  Returning_Visitor     True\n",
              "\n",
              "[5 rows x 17 columns]"
            ]
          },
          "metadata": {
            "tags": []
          },
          "execution_count": 39
        }
      ]
    },
    {
      "cell_type": "code",
      "metadata": {
        "colab": {
          "base_uri": "https://localhost:8080/",
          "height": 215
        },
        "id": "JEZb83d7DVxd",
        "outputId": "cb80e345-528d-4f73-8be5-802bb156803e"
      },
      "source": [
        "csv_path.tail()\n"
      ],
      "execution_count": null,
      "outputs": [
        {
          "output_type": "execute_result",
          "data": {
            "text/html": [
              "<div>\n",
              "<style scoped>\n",
              "    .dataframe tbody tr th:only-of-type {\n",
              "        vertical-align: middle;\n",
              "    }\n",
              "\n",
              "    .dataframe tbody tr th {\n",
              "        vertical-align: top;\n",
              "    }\n",
              "\n",
              "    .dataframe thead th {\n",
              "        text-align: right;\n",
              "    }\n",
              "</style>\n",
              "<table border=\"1\" class=\"dataframe\">\n",
              "  <thead>\n",
              "    <tr style=\"text-align: right;\">\n",
              "      <th></th>\n",
              "      <th>Administrative</th>\n",
              "      <th>Administrative_Duration</th>\n",
              "      <th>Informational</th>\n",
              "      <th>Informational_Duration</th>\n",
              "      <th>ProductRelated</th>\n",
              "      <th>ProductRelated_Duration</th>\n",
              "      <th>BounceRates</th>\n",
              "      <th>ExitRates</th>\n",
              "      <th>PageValues</th>\n",
              "      <th>SpecialDay</th>\n",
              "      <th>Month</th>\n",
              "      <th>OperatingSystems</th>\n",
              "      <th>Browser</th>\n",
              "      <th>Region</th>\n",
              "      <th>TrafficType</th>\n",
              "      <th>VisitorType</th>\n",
              "      <th>Weekend</th>\n",
              "    </tr>\n",
              "  </thead>\n",
              "  <tbody>\n",
              "    <tr>\n",
              "      <th>12325</th>\n",
              "      <td>3</td>\n",
              "      <td>145.0</td>\n",
              "      <td>0</td>\n",
              "      <td>0.0</td>\n",
              "      <td>53</td>\n",
              "      <td>1783.791667</td>\n",
              "      <td>0.007143</td>\n",
              "      <td>0.029031</td>\n",
              "      <td>12.241717</td>\n",
              "      <td>0.0</td>\n",
              "      <td>Dec</td>\n",
              "      <td>4</td>\n",
              "      <td>6</td>\n",
              "      <td>1</td>\n",
              "      <td>1</td>\n",
              "      <td>Returning_Visitor</td>\n",
              "      <td>True</td>\n",
              "    </tr>\n",
              "    <tr>\n",
              "      <th>12326</th>\n",
              "      <td>0</td>\n",
              "      <td>0.0</td>\n",
              "      <td>0</td>\n",
              "      <td>0.0</td>\n",
              "      <td>5</td>\n",
              "      <td>465.750000</td>\n",
              "      <td>0.000000</td>\n",
              "      <td>0.021333</td>\n",
              "      <td>0.000000</td>\n",
              "      <td>0.0</td>\n",
              "      <td>Nov</td>\n",
              "      <td>3</td>\n",
              "      <td>2</td>\n",
              "      <td>1</td>\n",
              "      <td>8</td>\n",
              "      <td>Returning_Visitor</td>\n",
              "      <td>True</td>\n",
              "    </tr>\n",
              "    <tr>\n",
              "      <th>12327</th>\n",
              "      <td>0</td>\n",
              "      <td>0.0</td>\n",
              "      <td>0</td>\n",
              "      <td>0.0</td>\n",
              "      <td>6</td>\n",
              "      <td>184.250000</td>\n",
              "      <td>0.083333</td>\n",
              "      <td>0.086667</td>\n",
              "      <td>0.000000</td>\n",
              "      <td>0.0</td>\n",
              "      <td>Nov</td>\n",
              "      <td>3</td>\n",
              "      <td>2</td>\n",
              "      <td>1</td>\n",
              "      <td>13</td>\n",
              "      <td>Returning_Visitor</td>\n",
              "      <td>True</td>\n",
              "    </tr>\n",
              "    <tr>\n",
              "      <th>12328</th>\n",
              "      <td>4</td>\n",
              "      <td>75.0</td>\n",
              "      <td>0</td>\n",
              "      <td>0.0</td>\n",
              "      <td>15</td>\n",
              "      <td>346.000000</td>\n",
              "      <td>0.000000</td>\n",
              "      <td>0.021053</td>\n",
              "      <td>0.000000</td>\n",
              "      <td>0.0</td>\n",
              "      <td>Nov</td>\n",
              "      <td>2</td>\n",
              "      <td>2</td>\n",
              "      <td>3</td>\n",
              "      <td>11</td>\n",
              "      <td>Returning_Visitor</td>\n",
              "      <td>False</td>\n",
              "    </tr>\n",
              "    <tr>\n",
              "      <th>12329</th>\n",
              "      <td>0</td>\n",
              "      <td>0.0</td>\n",
              "      <td>0</td>\n",
              "      <td>0.0</td>\n",
              "      <td>3</td>\n",
              "      <td>21.250000</td>\n",
              "      <td>0.000000</td>\n",
              "      <td>0.066667</td>\n",
              "      <td>0.000000</td>\n",
              "      <td>0.0</td>\n",
              "      <td>Nov</td>\n",
              "      <td>3</td>\n",
              "      <td>2</td>\n",
              "      <td>1</td>\n",
              "      <td>2</td>\n",
              "      <td>New_Visitor</td>\n",
              "      <td>True</td>\n",
              "    </tr>\n",
              "  </tbody>\n",
              "</table>\n",
              "</div>"
            ],
            "text/plain": [
              "       Administrative  Administrative_Duration  ...        VisitorType  Weekend\n",
              "12325               3                    145.0  ...  Returning_Visitor     True\n",
              "12326               0                      0.0  ...  Returning_Visitor     True\n",
              "12327               0                      0.0  ...  Returning_Visitor     True\n",
              "12328               4                     75.0  ...  Returning_Visitor    False\n",
              "12329               0                      0.0  ...        New_Visitor     True\n",
              "\n",
              "[5 rows x 17 columns]"
            ]
          },
          "metadata": {
            "tags": []
          },
          "execution_count": 40
        }
      ]
    },
    {
      "cell_type": "code",
      "metadata": {
        "colab": {
          "base_uri": "https://localhost:8080/"
        },
        "id": "duB8QSaADZxB",
        "outputId": "0633700a-02d8-49d8-e18a-db94aee499b9"
      },
      "source": [
        "csv_path.shape"
      ],
      "execution_count": null,
      "outputs": [
        {
          "output_type": "execute_result",
          "data": {
            "text/plain": [
              "(12330, 17)"
            ]
          },
          "metadata": {
            "tags": []
          },
          "execution_count": 41
        }
      ]
    },
    {
      "cell_type": "code",
      "metadata": {
        "colab": {
          "base_uri": "https://localhost:8080/"
        },
        "id": "g5WmDmB_DopK",
        "outputId": "61fd3618-6f8f-47ef-8890-89cc6b476859"
      },
      "source": [
        "csv_path.columns"
      ],
      "execution_count": null,
      "outputs": [
        {
          "output_type": "execute_result",
          "data": {
            "text/plain": [
              "Index(['Administrative', 'Administrative_Duration', 'Informational',\n",
              "       'Informational_Duration', 'ProductRelated', 'ProductRelated_Duration',\n",
              "       'BounceRates', 'ExitRates', 'PageValues', 'SpecialDay', 'Month',\n",
              "       'OperatingSystems', 'Browser', 'Region', 'TrafficType', 'VisitorType',\n",
              "       'Weekend'],\n",
              "      dtype='object')"
            ]
          },
          "metadata": {
            "tags": []
          },
          "execution_count": 42
        }
      ]
    },
    {
      "cell_type": "code",
      "metadata": {
        "id": "lTr2EaJODsS1"
      },
      "source": [
        "\n",
        "data = pd.get_dummies(csv_path)"
      ],
      "execution_count": null,
      "outputs": []
    },
    {
      "cell_type": "code",
      "metadata": {
        "colab": {
          "base_uri": "https://localhost:8080/"
        },
        "id": "aQh2MsJJGb73",
        "outputId": "228aed33-3e28-472e-eddb-55a925b9b466"
      },
      "source": [
        "print(data)"
      ],
      "execution_count": null,
      "outputs": [
        {
          "output_type": "stream",
          "text": [
            "       Administrative  ...  VisitorType_Returning_Visitor\n",
            "0                   0  ...                              1\n",
            "1                   0  ...                              1\n",
            "2                   0  ...                              1\n",
            "3                   0  ...                              1\n",
            "4                   0  ...                              1\n",
            "...               ...  ...                            ...\n",
            "12325               3  ...                              1\n",
            "12326               0  ...                              1\n",
            "12327               0  ...                              1\n",
            "12328               4  ...                              1\n",
            "12329               0  ...                              0\n",
            "\n",
            "[12330 rows x 28 columns]\n"
          ],
          "name": "stdout"
        }
      ]
    },
    {
      "cell_type": "code",
      "metadata": {
        "colab": {
          "base_uri": "https://localhost:8080/"
        },
        "id": "4aJ6b8lbGgT3",
        "outputId": "a781625b-11e1-4a04-d1fe-07fc06f3f465"
      },
      "source": [
        "data.columns"
      ],
      "execution_count": null,
      "outputs": [
        {
          "output_type": "execute_result",
          "data": {
            "text/plain": [
              "Index(['Administrative', 'Administrative_Duration', 'Informational',\n",
              "       'Informational_Duration', 'ProductRelated', 'ProductRelated_Duration',\n",
              "       'BounceRates', 'ExitRates', 'PageValues', 'SpecialDay',\n",
              "       'OperatingSystems', 'Browser', 'Region', 'TrafficType', 'Weekend',\n",
              "       'Month_Aug', 'Month_Dec', 'Month_Feb', 'Month_Jul', 'Month_June',\n",
              "       'Month_Mar', 'Month_May', 'Month_Nov', 'Month_Oct', 'Month_Sep',\n",
              "       'VisitorType_New_Visitor', 'VisitorType_Other',\n",
              "       'VisitorType_Returning_Visitor'],\n",
              "      dtype='object')"
            ]
          },
          "metadata": {
            "tags": []
          },
          "execution_count": 45
        }
      ]
    },
    {
      "cell_type": "code",
      "metadata": {
        "colab": {
          "base_uri": "https://localhost:8080/"
        },
        "id": "AwvOyQwBGzxq",
        "outputId": "fa8dee24-d5e4-404f-e094-354acb96f923"
      },
      "source": [
        "csv_path.info"
      ],
      "execution_count": null,
      "outputs": [
        {
          "output_type": "execute_result",
          "data": {
            "text/plain": [
              "<bound method DataFrame.info of        Administrative  Administrative_Duration  ...        VisitorType  Weekend\n",
              "0                   0                      0.0  ...  Returning_Visitor    False\n",
              "1                   0                      0.0  ...  Returning_Visitor    False\n",
              "2                   0                      0.0  ...  Returning_Visitor    False\n",
              "3                   0                      0.0  ...  Returning_Visitor    False\n",
              "4                   0                      0.0  ...  Returning_Visitor     True\n",
              "...               ...                      ...  ...                ...      ...\n",
              "12325               3                    145.0  ...  Returning_Visitor     True\n",
              "12326               0                      0.0  ...  Returning_Visitor     True\n",
              "12327               0                      0.0  ...  Returning_Visitor     True\n",
              "12328               4                     75.0  ...  Returning_Visitor    False\n",
              "12329               0                      0.0  ...        New_Visitor     True\n",
              "\n",
              "[12330 rows x 17 columns]>"
            ]
          },
          "metadata": {
            "tags": []
          },
          "execution_count": 46
        }
      ]
    },
    {
      "cell_type": "code",
      "metadata": {
        "colab": {
          "base_uri": "https://localhost:8080/"
        },
        "id": "ulVm0M3NG44n",
        "outputId": "3662863b-ebee-4897-cb6e-25982ed0e5ac"
      },
      "source": [
        "csv_path.info()"
      ],
      "execution_count": null,
      "outputs": [
        {
          "output_type": "stream",
          "text": [
            "<class 'pandas.core.frame.DataFrame'>\n",
            "RangeIndex: 12330 entries, 0 to 12329\n",
            "Data columns (total 17 columns):\n",
            " #   Column                   Non-Null Count  Dtype  \n",
            "---  ------                   --------------  -----  \n",
            " 0   Administrative           12330 non-null  int64  \n",
            " 1   Administrative_Duration  12330 non-null  float64\n",
            " 2   Informational            12330 non-null  int64  \n",
            " 3   Informational_Duration   12330 non-null  float64\n",
            " 4   ProductRelated           12330 non-null  int64  \n",
            " 5   ProductRelated_Duration  12330 non-null  float64\n",
            " 6   BounceRates              12330 non-null  float64\n",
            " 7   ExitRates                12330 non-null  float64\n",
            " 8   PageValues               12330 non-null  float64\n",
            " 9   SpecialDay               12330 non-null  float64\n",
            " 10  Month                    12330 non-null  object \n",
            " 11  OperatingSystems         12330 non-null  int64  \n",
            " 12  Browser                  12330 non-null  int64  \n",
            " 13  Region                   12330 non-null  int64  \n",
            " 14  TrafficType              12330 non-null  int64  \n",
            " 15  VisitorType              12330 non-null  object \n",
            " 16  Weekend                  12330 non-null  bool   \n",
            "dtypes: bool(1), float64(7), int64(7), object(2)\n",
            "memory usage: 1.5+ MB\n"
          ],
          "name": "stdout"
        }
      ]
    },
    {
      "cell_type": "code",
      "metadata": {
        "colab": {
          "base_uri": "https://localhost:8080/"
        },
        "id": "_InweY4zHIbQ",
        "outputId": "7ca749ab-be69-4bd6-c457-6fcc19b126ea"
      },
      "source": [
        "csv_path['VisitorType'].unique()"
      ],
      "execution_count": null,
      "outputs": [
        {
          "output_type": "execute_result",
          "data": {
            "text/plain": [
              "array(['Returning_Visitor', 'New_Visitor', 'Other'], dtype=object)"
            ]
          },
          "metadata": {
            "tags": []
          },
          "execution_count": 48
        }
      ]
    },
    {
      "cell_type": "code",
      "metadata": {
        "colab": {
          "base_uri": "https://localhost:8080/"
        },
        "id": "eqv4gmkOHhZL",
        "outputId": "5046c3a3-2721-4ffd-c737-53f20d529671"
      },
      "source": [
        "csv_path['VisitorType'].value_counts()"
      ],
      "execution_count": null,
      "outputs": [
        {
          "output_type": "execute_result",
          "data": {
            "text/plain": [
              "Returning_Visitor    10551\n",
              "New_Visitor           1694\n",
              "Other                   85\n",
              "Name: VisitorType, dtype: int64"
            ]
          },
          "metadata": {
            "tags": []
          },
          "execution_count": 49
        }
      ]
    },
    {
      "cell_type": "code",
      "metadata": {
        "id": "YMe9lsbGHqrT"
      },
      "source": [
        ""
      ],
      "execution_count": null,
      "outputs": []
    },
    {
      "cell_type": "code",
      "metadata": {
        "colab": {
          "base_uri": "https://localhost:8080/"
        },
        "id": "rDVODq__H57L",
        "outputId": "8c4c6ae2-36a7-4995-bcdc-828342524715"
      },
      "source": [
        "\n",
        "data = pd.get_dummies(csv_path)\n",
        "data.columns"
      ],
      "execution_count": null,
      "outputs": [
        {
          "output_type": "execute_result",
          "data": {
            "text/plain": [
              "Index(['Administrative', 'Administrative_Duration', 'Informational',\n",
              "       'Informational_Duration', 'ProductRelated', 'ProductRelated_Duration',\n",
              "       'BounceRates', 'ExitRates', 'PageValues', 'SpecialDay',\n",
              "       'OperatingSystems', 'Browser', 'Region', 'TrafficType', 'Weekend',\n",
              "       'Month_Aug', 'Month_Dec', 'Month_Feb', 'Month_Jul', 'Month_June',\n",
              "       'Month_Mar', 'Month_May', 'Month_Nov', 'Month_Oct', 'Month_Sep',\n",
              "       'VisitorType_New_Visitor', 'VisitorType_Other',\n",
              "       'VisitorType_Returning_Visitor'],\n",
              "      dtype='object')"
            ]
          },
          "metadata": {
            "tags": []
          },
          "execution_count": 50
        }
      ]
    },
    {
      "cell_type": "code",
      "metadata": {
        "colab": {
          "base_uri": "https://localhost:8080/"
        },
        "id": "7Xj_N-IGH9TG",
        "outputId": "068f3f9b-5d5d-42d9-9434-be831501dd42"
      },
      "source": [
        "csv_path.info()"
      ],
      "execution_count": null,
      "outputs": [
        {
          "output_type": "stream",
          "text": [
            "<class 'pandas.core.frame.DataFrame'>\n",
            "RangeIndex: 12330 entries, 0 to 12329\n",
            "Data columns (total 17 columns):\n",
            " #   Column                   Non-Null Count  Dtype  \n",
            "---  ------                   --------------  -----  \n",
            " 0   Administrative           12330 non-null  int64  \n",
            " 1   Administrative_Duration  12330 non-null  float64\n",
            " 2   Informational            12330 non-null  int64  \n",
            " 3   Informational_Duration   12330 non-null  float64\n",
            " 4   ProductRelated           12330 non-null  int64  \n",
            " 5   ProductRelated_Duration  12330 non-null  float64\n",
            " 6   BounceRates              12330 non-null  float64\n",
            " 7   ExitRates                12330 non-null  float64\n",
            " 8   PageValues               12330 non-null  float64\n",
            " 9   SpecialDay               12330 non-null  float64\n",
            " 10  Month                    12330 non-null  object \n",
            " 11  OperatingSystems         12330 non-null  int64  \n",
            " 12  Browser                  12330 non-null  int64  \n",
            " 13  Region                   12330 non-null  int64  \n",
            " 14  TrafficType              12330 non-null  int64  \n",
            " 15  VisitorType              12330 non-null  object \n",
            " 16  Weekend                  12330 non-null  bool   \n",
            "dtypes: bool(1), float64(7), int64(7), object(2)\n",
            "memory usage: 1.5+ MB\n"
          ],
          "name": "stdout"
        }
      ]
    },
    {
      "cell_type": "code",
      "metadata": {
        "colab": {
          "base_uri": "https://localhost:8080/"
        },
        "id": "wugN6PQAIYuR",
        "outputId": "2f65077a-43c9-4f40-d1d6-c4225c44078b"
      },
      "source": [
        "data.info()"
      ],
      "execution_count": null,
      "outputs": [
        {
          "output_type": "stream",
          "text": [
            "<class 'pandas.core.frame.DataFrame'>\n",
            "RangeIndex: 12330 entries, 0 to 12329\n",
            "Data columns (total 28 columns):\n",
            " #   Column                         Non-Null Count  Dtype  \n",
            "---  ------                         --------------  -----  \n",
            " 0   Administrative                 12330 non-null  int64  \n",
            " 1   Administrative_Duration        12330 non-null  float64\n",
            " 2   Informational                  12330 non-null  int64  \n",
            " 3   Informational_Duration         12330 non-null  float64\n",
            " 4   ProductRelated                 12330 non-null  int64  \n",
            " 5   ProductRelated_Duration        12330 non-null  float64\n",
            " 6   BounceRates                    12330 non-null  float64\n",
            " 7   ExitRates                      12330 non-null  float64\n",
            " 8   PageValues                     12330 non-null  float64\n",
            " 9   SpecialDay                     12330 non-null  float64\n",
            " 10  OperatingSystems               12330 non-null  int64  \n",
            " 11  Browser                        12330 non-null  int64  \n",
            " 12  Region                         12330 non-null  int64  \n",
            " 13  TrafficType                    12330 non-null  int64  \n",
            " 14  Weekend                        12330 non-null  bool   \n",
            " 15  Month_Aug                      12330 non-null  uint8  \n",
            " 16  Month_Dec                      12330 non-null  uint8  \n",
            " 17  Month_Feb                      12330 non-null  uint8  \n",
            " 18  Month_Jul                      12330 non-null  uint8  \n",
            " 19  Month_June                     12330 non-null  uint8  \n",
            " 20  Month_Mar                      12330 non-null  uint8  \n",
            " 21  Month_May                      12330 non-null  uint8  \n",
            " 22  Month_Nov                      12330 non-null  uint8  \n",
            " 23  Month_Oct                      12330 non-null  uint8  \n",
            " 24  Month_Sep                      12330 non-null  uint8  \n",
            " 25  VisitorType_New_Visitor        12330 non-null  uint8  \n",
            " 26  VisitorType_Other              12330 non-null  uint8  \n",
            " 27  VisitorType_Returning_Visitor  12330 non-null  uint8  \n",
            "dtypes: bool(1), float64(7), int64(7), uint8(13)\n",
            "memory usage: 1.5 MB\n"
          ],
          "name": "stdout"
        }
      ]
    },
    {
      "cell_type": "code",
      "metadata": {
        "colab": {
          "base_uri": "https://localhost:8080/"
        },
        "id": "7hddq_udIjc6",
        "outputId": "ba948fd8-36e8-43cf-8b26-0275c1e9483b"
      },
      "source": [
        "csv_path['Weekend'].head()"
      ],
      "execution_count": null,
      "outputs": [
        {
          "output_type": "execute_result",
          "data": {
            "text/plain": [
              "0    False\n",
              "1    False\n",
              "2    False\n",
              "3    False\n",
              "4     True\n",
              "Name: Weekend, dtype: bool"
            ]
          },
          "metadata": {
            "tags": []
          },
          "execution_count": 53
        }
      ]
    },
    {
      "cell_type": "code",
      "metadata": {
        "colab": {
          "base_uri": "https://localhost:8080/"
        },
        "id": "M8Zk_nyzKX05",
        "outputId": "05331110-7519-40b3-9217-ba6bded2b6c9"
      },
      "source": [
        "from sklearn.preprocessing import LabelEncoder\n",
        "labelencoder = LabelEncoder ()\n",
        "data['Weekend'] = labelencoder.fit_transform(data['Weekend'])\n",
        "data.info()"
      ],
      "execution_count": null,
      "outputs": [
        {
          "output_type": "stream",
          "text": [
            "<class 'pandas.core.frame.DataFrame'>\n",
            "RangeIndex: 12330 entries, 0 to 12329\n",
            "Data columns (total 28 columns):\n",
            " #   Column                         Non-Null Count  Dtype  \n",
            "---  ------                         --------------  -----  \n",
            " 0   Administrative                 12330 non-null  int64  \n",
            " 1   Administrative_Duration        12330 non-null  float64\n",
            " 2   Informational                  12330 non-null  int64  \n",
            " 3   Informational_Duration         12330 non-null  float64\n",
            " 4   ProductRelated                 12330 non-null  int64  \n",
            " 5   ProductRelated_Duration        12330 non-null  float64\n",
            " 6   BounceRates                    12330 non-null  float64\n",
            " 7   ExitRates                      12330 non-null  float64\n",
            " 8   PageValues                     12330 non-null  float64\n",
            " 9   SpecialDay                     12330 non-null  float64\n",
            " 10  OperatingSystems               12330 non-null  int64  \n",
            " 11  Browser                        12330 non-null  int64  \n",
            " 12  Region                         12330 non-null  int64  \n",
            " 13  TrafficType                    12330 non-null  int64  \n",
            " 14  Weekend                        12330 non-null  int64  \n",
            " 15  Month_Aug                      12330 non-null  uint8  \n",
            " 16  Month_Dec                      12330 non-null  uint8  \n",
            " 17  Month_Feb                      12330 non-null  uint8  \n",
            " 18  Month_Jul                      12330 non-null  uint8  \n",
            " 19  Month_June                     12330 non-null  uint8  \n",
            " 20  Month_Mar                      12330 non-null  uint8  \n",
            " 21  Month_May                      12330 non-null  uint8  \n",
            " 22  Month_Nov                      12330 non-null  uint8  \n",
            " 23  Month_Oct                      12330 non-null  uint8  \n",
            " 24  Month_Sep                      12330 non-null  uint8  \n",
            " 25  VisitorType_New_Visitor        12330 non-null  uint8  \n",
            " 26  VisitorType_Other              12330 non-null  uint8  \n",
            " 27  VisitorType_Returning_Visitor  12330 non-null  uint8  \n",
            "dtypes: float64(7), int64(8), uint8(13)\n",
            "memory usage: 1.6 MB\n"
          ],
          "name": "stdout"
        }
      ]
    },
    {
      "cell_type": "code",
      "metadata": {
        "id": "OPbuVDQ3LfVO"
      },
      "source": [
        "from sklearn.preprocessing import LabelEncoder\n",
        "labelencoder = LabelEncoder ()\n",
        "data['Weekend'] = labelencoder.fit_transform(data['Weekend'])"
      ],
      "execution_count": null,
      "outputs": []
    },
    {
      "cell_type": "code",
      "metadata": {
        "colab": {
          "base_uri": "https://localhost:8080/"
        },
        "id": "gc-sIo1RLMnE",
        "outputId": "a593c7df-5606-45bb-f7e9-673d0de4272c"
      },
      "source": [
        "data.info()"
      ],
      "execution_count": null,
      "outputs": [
        {
          "output_type": "stream",
          "text": [
            "<class 'pandas.core.frame.DataFrame'>\n",
            "RangeIndex: 12330 entries, 0 to 12329\n",
            "Data columns (total 28 columns):\n",
            " #   Column                         Non-Null Count  Dtype  \n",
            "---  ------                         --------------  -----  \n",
            " 0   Administrative                 12330 non-null  int64  \n",
            " 1   Administrative_Duration        12330 non-null  float64\n",
            " 2   Informational                  12330 non-null  int64  \n",
            " 3   Informational_Duration         12330 non-null  float64\n",
            " 4   ProductRelated                 12330 non-null  int64  \n",
            " 5   ProductRelated_Duration        12330 non-null  float64\n",
            " 6   BounceRates                    12330 non-null  float64\n",
            " 7   ExitRates                      12330 non-null  float64\n",
            " 8   PageValues                     12330 non-null  float64\n",
            " 9   SpecialDay                     12330 non-null  float64\n",
            " 10  OperatingSystems               12330 non-null  int64  \n",
            " 11  Browser                        12330 non-null  int64  \n",
            " 12  Region                         12330 non-null  int64  \n",
            " 13  TrafficType                    12330 non-null  int64  \n",
            " 14  Weekend                        12330 non-null  int64  \n",
            " 15  Month_Aug                      12330 non-null  uint8  \n",
            " 16  Month_Dec                      12330 non-null  uint8  \n",
            " 17  Month_Feb                      12330 non-null  uint8  \n",
            " 18  Month_Jul                      12330 non-null  uint8  \n",
            " 19  Month_June                     12330 non-null  uint8  \n",
            " 20  Month_Mar                      12330 non-null  uint8  \n",
            " 21  Month_May                      12330 non-null  uint8  \n",
            " 22  Month_Nov                      12330 non-null  uint8  \n",
            " 23  Month_Oct                      12330 non-null  uint8  \n",
            " 24  Month_Sep                      12330 non-null  uint8  \n",
            " 25  VisitorType_New_Visitor        12330 non-null  uint8  \n",
            " 26  VisitorType_Other              12330 non-null  uint8  \n",
            " 27  VisitorType_Returning_Visitor  12330 non-null  uint8  \n",
            "dtypes: float64(7), int64(8), uint8(13)\n",
            "memory usage: 1.6 MB\n"
          ],
          "name": "stdout"
        }
      ]
    },
    {
      "cell_type": "code",
      "metadata": {
        "colab": {
          "base_uri": "https://localhost:8080/"
        },
        "id": "eoiUKRi8M3CF",
        "outputId": "bf9aac4a-c9bd-4bf5-8f49-ae1b287be0dd"
      },
      "source": [
        "csv_path['Weekend'].head()"
      ],
      "execution_count": null,
      "outputs": [
        {
          "output_type": "execute_result",
          "data": {
            "text/plain": [
              "0    False\n",
              "1    False\n",
              "2    False\n",
              "3    False\n",
              "4     True\n",
              "Name: Weekend, dtype: bool"
            ]
          },
          "metadata": {
            "tags": []
          },
          "execution_count": 57
        }
      ]
    },
    {
      "cell_type": "code",
      "metadata": {
        "colab": {
          "base_uri": "https://localhost:8080/"
        },
        "id": "_TgsnoJEND1D",
        "outputId": "61853d70-7c49-40b2-ddc4-428f6834a7ac"
      },
      "source": [
        "data['Weekend'].head()"
      ],
      "execution_count": null,
      "outputs": [
        {
          "output_type": "execute_result",
          "data": {
            "text/plain": [
              "0    0\n",
              "1    0\n",
              "2    0\n",
              "3    0\n",
              "4    1\n",
              "Name: Weekend, dtype: int64"
            ]
          },
          "metadata": {
            "tags": []
          },
          "execution_count": 58
        }
      ]
    },
    {
      "cell_type": "code",
      "metadata": {
        "id": "oZAj4UDuU7qb"
      },
      "source": [
        ""
      ],
      "execution_count": null,
      "outputs": []
    },
    {
      "cell_type": "code",
      "metadata": {
        "colab": {
          "base_uri": "https://localhost:8080/",
          "height": 591
        },
        "id": "0yEsfbd5Sguv",
        "outputId": "9cc0a6be-67a6-4a1a-91d4-14d5a6ab7870"
      },
      "source": [
        "plt.rcParams['figure.figsize'] = (10,10)\n",
        "size = [10551,1694,85]\n",
        "colors = ['green','red','blue']\n",
        "explode = [0,0,0]\n",
        "labels = \"returning_visitors\",\"new_visitors\",\"others\" \n",
        "\n",
        "\n",
        "plt.figure()\n",
        "plt.plot()\n",
        "plt.pie(size,colors=colors,labels=labels,explode=explode,shadow=True,autopct='%.2f%%')\n",
        "plt.title(\"DIFFERENT_VISITORS\")\n",
        "plt.show()"
      ],
      "execution_count": null,
      "outputs": [
        {
          "output_type": "display_data",
          "data": {
            "image/png": "[encoded data removed]",
            "text/plain": [
              "<Figure size 720x720 with 1 Axes>"
            ]
          },
          "metadata": {
            "tags": []
          }
        }
      ]
    },
    {
      "cell_type": "code",
      "metadata": {
        "id": "0rMDFxM4V5Ca",
        "colab": {
          "base_uri": "https://localhost:8080/",
          "height": 458
        },
        "outputId": "197a9752-07f5-4a78-c8a4-ae324bbdcc97"
      },
      "source": [
        "plt.rcParams['figure.figsize']=(7,7)\n",
        "plt.plot()\n",
        "plt.hist(csv_path['Region'], color = 'yellow')\n",
        "plt.title(\"REGION\")\n",
        "plt.xlabel ('region')\n",
        "plt.ylabel ('no of customers')\n",
        "plt.show()  \n"
      ],
      "execution_count": null,
      "outputs": [
        {
          "output_type": "display_data",
          "data": {
            "image/png": "[encoded data removed]",
            "text/plain": [
              "<Figure size 504x504 with 1 Axes>"
            ]
          },
          "metadata": {
            "tags": [],
            "needs_background": "light"
          }
        }
      ]
    },
    {
      "cell_type": "code",
      "metadata": {
        "id": "v5kcEwUixng-"
      },
      "source": [
        ""
      ],
      "execution_count": null,
      "outputs": []
    }
  ]
}